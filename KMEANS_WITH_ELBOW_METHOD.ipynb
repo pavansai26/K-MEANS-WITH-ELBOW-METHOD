{
  "nbformat": 4,
  "nbformat_minor": 0,
  "metadata": {
    "colab": {
      "name": "KMEANS WITH ELBOW METHOD.ipynb",
      "provenance": [],
      "private_outputs": true,
      "authorship_tag": "ABX9TyOXfX8aVRAZ7Vc0baXms5sl",
      "include_colab_link": true
    },
    "kernelspec": {
      "name": "python3",
      "display_name": "Python 3"
    }
  },
  "cells": [
    {
      "cell_type": "markdown",
      "metadata": {
        "id": "view-in-github",
        "colab_type": "text"
      },
      "source": [
        "<a href=\"https://colab.research.google.com/github/pavansai26/K-MEANS-WITH-ELBOW-METHOD/blob/master/KMEANS_WITH_ELBOW_METHOD.ipynb\" target=\"_parent\"><img src=\"https://colab.research.google.com/assets/colab-badge.svg\" alt=\"Open In Colab\"/></a>"
      ]
    },
    {
      "cell_type": "code",
      "metadata": {
        "id": "KtnJ3U1oaaqw",
        "colab_type": "code",
        "colab": {}
      },
      "source": [
        "import matplotlib.pyplot as plt\n",
        "import numpy as np\n",
        "import pandas as pd\n",
        "from sklearn.cluster import KMeans\n",
        "from sklearn.datasets.samples_generator import make_blobs"
      ],
      "execution_count": 0,
      "outputs": []
    },
    {
      "cell_type": "code",
      "metadata": {
        "id": "vCxItl4La6V1",
        "colab_type": "code",
        "colab": {}
      },
      "source": [
        ""
      ],
      "execution_count": 0,
      "outputs": []
    },
    {
      "cell_type": "markdown",
      "metadata": {
        "id": "Fe3ncFe-bCZ7",
        "colab_type": "text"
      },
      "source": [
        "make_blobs is used to generate sample points"
      ]
    },
    {
      "cell_type": "code",
      "metadata": {
        "id": "wO1HezMkbIPF",
        "colab_type": "code",
        "colab": {}
      },
      "source": [
        "x,y=make_blobs(n_samples=100,centers=4,cluster_std=1,n_features=2)"
      ],
      "execution_count": 0,
      "outputs": []
    },
    {
      "cell_type": "code",
      "metadata": {
        "id": "0nQqrmRzbb1U",
        "colab_type": "code",
        "colab": {}
      },
      "source": [
        "plt.scatter(x[:,0],x[:,1],s=30,color='b')\n",
        "plt.xlabel('x')\n",
        "plt.ylabel('y')"
      ],
      "execution_count": 0,
      "outputs": []
    },
    {
      "cell_type": "code",
      "metadata": {
        "id": "qVflGIIzbxzh",
        "colab_type": "code",
        "colab": {}
      },
      "source": [
        "cost=[]\n",
        "for i in range(1,11):\n",
        "  km=KMeans(n_clusters=i,max_iter=500)\n",
        "  km.fit(x)\n",
        "  cost.append(km.inertia_)"
      ],
      "execution_count": 0,
      "outputs": []
    },
    {
      "cell_type": "code",
      "metadata": {
        "id": "J7X1SBPjcTq_",
        "colab_type": "code",
        "colab": {}
      },
      "source": [
        "cost"
      ],
      "execution_count": 0,
      "outputs": []
    },
    {
      "cell_type": "code",
      "metadata": {
        "id": "tbTk_PW4cViR",
        "colab_type": "code",
        "colab": {}
      },
      "source": [
        "plt.plot(range(1,11),cost,color='g',linewidth='3')\n",
        "plt.xlabel('value of x')\n",
        "plt.ylabel('squared error')\n",
        "plt.show()"
      ],
      "execution_count": 0,
      "outputs": []
    },
    {
      "cell_type": "code",
      "metadata": {
        "id": "pj4ZAi_Ccubc",
        "colab_type": "code",
        "colab": {}
      },
      "source": [
        ""
      ],
      "execution_count": 0,
      "outputs": []
    },
    {
      "cell_type": "markdown",
      "metadata": {
        "id": "6nrINUpLeLIT",
        "colab_type": "text"
      },
      "source": [
        "the main drawback of the k means we need to choose no of clusters manually to eliminate this problem a new one was came.\n",
        "that is called kmeans++"
      ]
    },
    {
      "cell_type": "code",
      "metadata": {
        "id": "IaVj6JWGewpa",
        "colab_type": "code",
        "colab": {}
      },
      "source": [
        ""
      ],
      "execution_count": 0,
      "outputs": []
    },
    {
      "cell_type": "markdown",
      "metadata": {
        "id": "7kzyJrvjezJM",
        "colab_type": "text"
      },
      "source": [
        "in kmeans++ we dont need to choose the no of clusters manually\n",
        "firstly it randomly selects the one centroid then  it calculates the distance between this centroid and all data points."
      ]
    },
    {
      "cell_type": "code",
      "metadata": {
        "id": "ZxLqaSv8fcZw",
        "colab_type": "code",
        "colab": {}
      },
      "source": [
        ""
      ],
      "execution_count": 0,
      "outputs": []
    },
    {
      "cell_type": "markdown",
      "metadata": {
        "id": "BAKFtAU5ffKS",
        "colab_type": "text"
      },
      "source": [
        "if some data points are far away from the this centroid so it forms another cluster. procedure repeated."
      ]
    },
    {
      "cell_type": "code",
      "metadata": {
        "id": "cS-R7Fuqf8Yo",
        "colab_type": "code",
        "colab": {}
      },
      "source": [
        ""
      ],
      "execution_count": 0,
      "outputs": []
    },
    {
      "cell_type": "markdown",
      "metadata": {
        "id": "IseF3fOaf9aU",
        "colab_type": "text"
      },
      "source": [
        "this is the only difference remaining part is same as kmeans"
      ]
    },
    {
      "cell_type": "code",
      "metadata": {
        "id": "C9XoFsSngGR3",
        "colab_type": "code",
        "colab": {}
      },
      "source": [
        ""
      ],
      "execution_count": 0,
      "outputs": []
    }
  ]
}